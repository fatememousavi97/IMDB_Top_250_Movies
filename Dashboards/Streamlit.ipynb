{
 "cells": [
  {
   "cell_type": "markdown",
   "id": "b9fcd70c",
   "metadata": {},
   "source": [
    "Sor far what we have done untill Now includes this Steps:\n",
    "1. collected Data From IMDB Top 250 Movies \n",
    "2. Save data as 5 tables in CSV file\n",
    "3. Created a Database with Python library MySQL connector"
   ]
  },
  {
   "cell_type": "markdown",
   "id": "986dd87c",
   "metadata": {},
   "source": [
    "Now we wanna visulize our Data and Create a Dashboard with \"Streamlit\""
   ]
  },
  {
   "cell_type": "markdown",
   "id": "18dccf75",
   "metadata": {},
   "source": [
    "# import libraries"
   ]
  },
  {
   "cell_type": "code",
   "execution_count": 8,
   "id": "12afa279",
   "metadata": {},
   "outputs": [],
   "source": [
    "import streamlit as st\n",
    "from pathlib import Path\n",
    "import pandas as pd\n",
    "import mysql.connector\n",
    "from mysql.connector import errorcode\n",
    "import matplotlib.pyplot as plt \n",
    "import numpy as np\n",
    "import altair as alt\n",
    "import warnings\n",
    "warnings.filterwarnings('ignore')"
   ]
  },
  {
   "cell_type": "markdown",
   "id": "53c596a2",
   "metadata": {},
   "source": [
    "# Connect python to MySQL "
   ]
  },
  {
   "cell_type": "code",
   "execution_count": 4,
   "id": "66965511",
   "metadata": {},
   "outputs": [],
   "source": [
    "cnx = mysql.connector.connect(\n",
    "    user=\"fateme_mousavi\",\n",
    "    host=\"127.0.0.1\", \n",
    "    password=\"FMousavi11121375\",\n",
    ")\n",
    "cursor = cnx.cursor()"
   ]
  },
  {
   "cell_type": "code",
   "execution_count": 5,
   "id": "d229813b",
   "metadata": {},
   "outputs": [],
   "source": [
    "DB_NAME = 'IMDB'\n",
    "cursor = cnx.cursor()\n",
    "cursor.execute(f'USE {DB_NAME}')"
   ]
  },
  {
   "cell_type": "markdown",
   "id": "9d7ad53a",
   "metadata": {},
   "source": [
    "lets Start creating Dashboard"
   ]
  },
  {
   "cell_type": "code",
   "execution_count": 6,
   "id": "c5e5df83",
   "metadata": {},
   "outputs": [],
   "source": [
    "st.set_page_config(\n",
    "    page_title='Streamlit Assignment',\n",
    "    page_icon= ':snake:'\n",
    ")\n",
    "base_path = Path().absolute() "
   ]
  },
  {
   "cell_type": "markdown",
   "id": "9f60472c",
   "metadata": {},
   "source": [
    "# Set main page title"
   ]
  },
  {
   "cell_type": "code",
   "execution_count": 9,
   "id": "9cf6c484",
   "metadata": {},
   "outputs": [
    {
     "data": {
      "text/plain": [
       "DeltaGenerator()"
      ]
     },
     "execution_count": 9,
     "metadata": {},
     "output_type": "execute_result"
    }
   ],
   "source": [
    "st.title(\" Advenced python Assignment \") "
   ]
  },
  {
   "cell_type": "markdown",
   "id": "ce88c7c1",
   "metadata": {},
   "source": [
    "Create first table that user could fillter data by year column and Show movie table"
   ]
  },
  {
   "cell_type": "markdown",
   "id": "c739360c",
   "metadata": {},
   "source": [
    "# Step 1: Create Dynamic Table in Streamlit"
   ]
  },
  {
   "cell_type": "code",
   "execution_count": 12,
   "id": "18ec2675",
   "metadata": {},
   "outputs": [],
   "source": [
    "#Table title\n",
    "st.subheader('filtered data by year column')\n",
    "\n",
    "#set two search box for Both ends of the time period\n",
    "searchcheckbox_year1 = st.checkbox(\"initial year\",value = False, key=1) \n",
    "searchcheckbox_year2 = st.checkbox(\"final year\",value = False, key=2) "
   ]
  },
  {
   "cell_type": "markdown",
   "id": "21603e41",
   "metadata": {},
   "source": [
    "Set condition based on searchbox input"
   ]
  },
  {
   "cell_type": "code",
   "execution_count": 13,
   "id": "b66d8d3b",
   "metadata": {},
   "outputs": [],
   "source": [
    "if searchcheckbox_year1:\n",
    "    start = st.number_input(\"initial year\",min_value=1921,max_value=2023)\n",
    "\n",
    "else:\n",
    "    start  =''\n",
    "\n",
    "\n",
    "if searchcheckbox_year2:   \n",
    "    end_year = st.number_input(\"final year\",min_value=1921,max_value=2023)\n",
    "else:\n",
    "    end_year =''\n"
   ]
  },
  {
   "cell_type": "markdown",
   "id": "240d483c",
   "metadata": {},
   "source": [
    "# Write Query and Create table in Streamlit with user input values"
   ]
  },
  {
   "cell_type": "code",
   "execution_count": 14,
   "id": "01615b8c",
   "metadata": {},
   "outputs": [],
   "source": [
    "if st.button(\"search\"):\n",
    "\n",
    "    if searchcheckbox_year1 and searchcheckbox_year2:\n",
    "        # if inite year is specified but not the final year\n",
    "        if start != '' and end_year == '':\n",
    "            st.warning('Please enter final year of period')\n",
    "\n",
    "        elif start == '' and end_year != '':\n",
    "            st.warning('Please enter initial year of period')\n",
    "        # if both  are specified\n",
    "        elif start != '' and end_year != '':\n",
    "            \n",
    "            query=(\"select * from movie where year> %s and year< %s;\")\n",
    "            cursor.execute(query, (start, end_year))\n",
    "            records = []\n",
    "            for item in cursor.fetchall() :\n",
    "                 records.append(item)\n",
    "            df_year=pd.DataFrame(records)\n",
    "            df_year.columns=['id','title','year','runtime','parental_guide','gross_us_canada'] \n",
    "            st.dataframe(df_year)\n",
    "        # if user does not enter anything\n",
    "        else:\n",
    "            st.warning('Please enter two years')"
   ]
  },
  {
   "cell_type": "markdown",
   "id": "034b0b82",
   "metadata": {},
   "source": [
    "# filter movie table by runtime "
   ]
  },
  {
   "cell_type": "code",
   "execution_count": 16,
   "id": "331f474a",
   "metadata": {},
   "outputs": [],
   "source": [
    "# Selection for a specific runtime range.\n",
    "st.subheader('filtered by runtime column')\n",
    "\n",
    "searchcheckbox_runtime1 = st.checkbox(\"strat\",value = False, key=3) \n",
    "searchcheckbox_runtime2 = st.checkbox(\"end\",value = False, key=4) \n",
    "\n",
    "if searchcheckbox_runtime1:\n",
    "    start_runtime = st.number_input(\"initial number\",min_value=45,max_value=238)\n",
    "\n",
    "else:\n",
    "    start_runtime  =''\n",
    "\n",
    "\n",
    "if searchcheckbox_runtime2:   \n",
    "    end_runtime = st.number_input(\"final number\",min_value=45,max_value=238)\n",
    "else:\n",
    "    end_runtime =''\n",
    "\n",
    "if st.button(\"filtering\"):\n",
    "\n",
    "    if searchcheckbox_runtime1 and searchcheckbox_runtime2:\n",
    "        \n",
    "        if start_runtime != '' and end_runtime != '':\n",
    "            if(start_runtime < end_runtime):\n",
    "                query=(\"select * from movie where movie.runtime> %s and runtime< %s;\")\n",
    "                cursor.execute(query, (start_runtime, end_runtime))\n",
    "                records = []\n",
    "                for item in cursor.fetchall() :\n",
    "                     records.append(item)\n",
    "                df_year=pd.DataFrame(records)\n",
    "                df_year.columns=['id','title','year','runtime','parental_guide','gross_us_canada'] \n",
    "                st.dataframe(df_year)\n",
    "        else:\n",
    "             st.warning(\"Invalid runtime Range - Re-enter numbers\")"
   ]
  },
  {
   "cell_type": "markdown",
   "id": "0f3db03d",
   "metadata": {},
   "source": [
    "# select movie with specific actor/actress "
   ]
  },
  {
   "cell_type": "code",
   "execution_count": 17,
   "id": "e38646ff",
   "metadata": {},
   "outputs": [
    {
     "data": {
      "text/plain": [
       "DeltaGenerator()"
      ]
     },
     "execution_count": 17,
     "metadata": {},
     "output_type": "execute_result"
    }
   ],
   "source": [
    "\n",
    "st.subheader('Movies one or more specific actor/actres palayed') \n",
    "names=st.text_input('Enter your names (with , between them)') \n",
    "names_li=names.split(',')\n",
    "records = []\n",
    "for name in names_li:\n",
    "    query=(\"select movie.title AS `title`,person.name AS `name` from person JOIN cast ON person.id=cast.person_id JOIN movie ON cast.movie_id=movie.id where person.name=%s\")\n",
    "    cursor.execute(query,(name,))\n",
    "    for item in cursor.fetchall() :\n",
    "        records.append(item)\n",
    "        \n",
    "df_cast=pd.DataFrame(data=records,columns=['title','full_name'])\n",
    "st.dataframe(df_cast) \n"
   ]
  },
  {
   "cell_type": "markdown",
   "id": "2f8a3140",
   "metadata": {},
   "source": [
    "# movie with specified genre by user"
   ]
  },
  {
   "cell_type": "code",
   "execution_count": 18,
   "id": "8b2c8caf",
   "metadata": {},
   "outputs": [
    {
     "data": {
      "text/plain": [
       "DeltaGenerator()"
      ]
     },
     "execution_count": 18,
     "metadata": {},
     "output_type": "execute_result"
    }
   ],
   "source": [
    "st.subheader('Movie with specific genre') \n",
    "genre=st.text_input('Enter your genre') \n",
    "\n",
    "query=(\"select movie.title, genre.genre from movie JOIN genre ON movie.id=genre.movie_id where genre=%s;\")\n",
    "cursor.execute(query, (genre,))\n",
    "records = []\n",
    "for item in cursor.fetchall() :\n",
    "    records.append(item)\n",
    "    \n",
    "df_genre=pd.DataFrame(data=records,columns=['title','genre'])\n",
    "st.dataframe(df_genre) "
   ]
  },
  {
   "cell_type": "markdown",
   "id": "77a8cea0",
   "metadata": {},
   "source": [
    "# Create static charts in Streamlit"
   ]
  },
  {
   "cell_type": "markdown",
   "id": "a66836e4",
   "metadata": {},
   "source": [
    "set header for part 2 of Dashboard"
   ]
  },
  {
   "cell_type": "code",
   "execution_count": 20,
   "id": "d7c32792",
   "metadata": {},
   "outputs": [
    {
     "data": {
      "text/plain": [
       "DeltaGenerator()"
      ]
     },
     "execution_count": 20,
     "metadata": {},
     "output_type": "execute_result"
    }
   ],
   "source": [
    "st.subheader('Data analysis with static charts') \n",
    "st.text(\" \")\n",
    "st.text(\" \")"
   ]
  },
  {
   "cell_type": "markdown",
   "id": "263229c5",
   "metadata": {},
   "source": [
    "Write a Query to select Top 10 Highest Grossing Movie"
   ]
  },
  {
   "cell_type": "code",
   "execution_count": 22,
   "id": "8a65f111",
   "metadata": {},
   "outputs": [
    {
     "data": {
      "text/plain": [
       "DeltaGenerator()"
      ]
     },
     "execution_count": 22,
     "metadata": {},
     "output_type": "execute_result"
    },
    {
     "data": {
      "image/png": "[encoded data removed]",
      "text/plain": [
       "<Figure size 1500x1000 with 1 Axes>"
      ]
     },
     "metadata": {},
     "output_type": "display_data"
    }
   ],
   "source": [
    "cursor.execute('select * from movie order by gross_us_canada DESC LIMIT 10;') \n",
    "\n",
    "#Save Query result as a list\n",
    "records = []\n",
    "for item in cursor.fetchall() :\n",
    "    records.append(item) \n",
    "df=pd.DataFrame(records) \n",
    "\n",
    "#create a final DataFrame\n",
    "df.loc[:,1]=df.loc[:,1].replace('Star Wars: Episode IV - A New Hope','Star Wars: A New Hope')\n",
    "\n",
    "#Plot static charts with dataframe\n",
    "y=list(df.loc[:,5])\n",
    "x=list(df.loc[:,1]) \n",
    "\n",
    "colors=['#b20710','#221f1f']\n",
    "fig1, ax1 = plt.subplots(figsize=(15,10))\n",
    "bars=ax1.bar(x, y, color =colors,width=0.8)\n",
    "ax1.spines[['top', 'right']].set_visible(False)\n",
    "ax1.tick_params(tick1On=False,length=0,labelsize=11)\n",
    "plt.rcParams[\"font.family\"] = \"serif\"\n",
    "for bars in ax1.containers:\n",
    "    ax1.bar_label(bars,padding=12)\n",
    "plt.xlabel('Movies', fontsize=20,fontweight='bold')\n",
    "plt.ylabel('Canada US Gross', fontsize=20,fontweight='bold')   \n",
    "fig1.suptitle('Top 10 Highest-Grossing Movies of All Time ',ha='center',fontweight='bold',fontsize=20)\n",
    "plt.xticks(rotation =90)\n",
    "st.pyplot(fig1) "
   ]
  },
  {
   "cell_type": "code",
   "execution_count": 23,
   "id": "274f0d4c",
   "metadata": {},
   "outputs": [
    {
     "data": {
      "text/plain": [
       "DeltaGenerator()"
      ]
     },
     "execution_count": 23,
     "metadata": {},
     "output_type": "execute_result"
    }
   ],
   "source": [
    "#Set two line Space between charts\n",
    "st.text(\" \")\n",
    "st.text(\" \")"
   ]
  },
  {
   "cell_type": "markdown",
   "id": "87e920b9",
   "metadata": {},
   "source": [
    "write a Query for 5 actors/actress With The Most Movies On The IMDb Top 250 List"
   ]
  },
  {
   "cell_type": "code",
   "execution_count": 25,
   "id": "4f135cb8",
   "metadata": {},
   "outputs": [],
   "source": [
    "cursor.execute('select person.name,count(movie_id) AS cnt from cast JOIN person ON person.id=cast.person_id Group by name order by cnt DESC LIMIT 5;')\n",
    "records = []\n",
    "for item in cursor.fetchall() :\n",
    "    records.append(item) \n",
    "df=pd.DataFrame(records) "
   ]
  },
  {
   "cell_type": "markdown",
   "id": "442889ee",
   "metadata": {},
   "source": [
    "# Plot charts for new Query"
   ]
  },
  {
   "cell_type": "code",
   "execution_count": 28,
   "id": "7e6b8d66",
   "metadata": {},
   "outputs": [
    {
     "data": {
      "text/plain": [
       "DeltaGenerator()"
      ]
     },
     "execution_count": 28,
     "metadata": {},
     "output_type": "execute_result"
    }
   ],
   "source": [
    "x=list(df.loc[:,0])\n",
    "y=list(df.loc[:,1]) \n",
    "\n",
    "colors=['#b20710','#221f1f']\n",
    "fig2, ax2 = plt.subplots(figsize=(15,10))\n",
    "bars=ax2.bar(x, y, color =colors,width=0.8)\n",
    "ax2.spines[['top', 'right']].set_visible(False)\n",
    "ax2.tick_params(tick1On=False,length=0,labelsize=15)\n",
    "plt.rcParams[\"font.family\"] = \"serif\"\n",
    "for bars in ax2.containers:\n",
    "    ax2.bar_label(bars,padding=20)\n",
    "plt.xlabel('actor/actress', fontsize=20,fontweight='bold')\n",
    "plt.ylabel('Movies Counter', fontsize=20,fontweight='bold')   \n",
    "fig2.suptitle('5 actors/actress With The Most Movies On The IMDb Top 250 List',ha='center',fontweight='bold',fontsize=20)\n",
    "st.pyplot(fig2)"
   ]
  },
  {
   "cell_type": "code",
   "execution_count": 29,
   "id": "a0654ffb",
   "metadata": {},
   "outputs": [
    {
     "data": {
      "text/plain": [
       "DeltaGenerator()"
      ]
     },
     "execution_count": 29,
     "metadata": {},
     "output_type": "execute_result"
    }
   ],
   "source": [
    "#Set Two line Space between charts\n",
    "st.text(\" \")\n",
    "st.text(\" \")"
   ]
  },
  {
   "cell_type": "markdown",
   "id": "a55d8fca",
   "metadata": {},
   "source": [
    "# pie charts "
   ]
  },
  {
   "cell_type": "markdown",
   "id": "b8cf81cc",
   "metadata": {},
   "source": [
    "write a Query for Number of different genres for \"IMDB's top 250 movies\""
   ]
  },
  {
   "cell_type": "code",
   "execution_count": 30,
   "id": "dfe8d64d",
   "metadata": {},
   "outputs": [],
   "source": [
    "cursor.execute('select genre.genre,count(movie_id) AS cg from genre group by genre.genre order by cg DESC;')\n",
    "records = []\n",
    "for item in cursor.fetchall() :\n",
    "    records.append(item)\n",
    "df=pd.DataFrame(data=records)"
   ]
  },
  {
   "cell_type": "markdown",
   "id": "589874be",
   "metadata": {},
   "source": [
    "# Plot pie chart with quries result"
   ]
  },
  {
   "cell_type": "code",
   "execution_count": 32,
   "id": "5e867fb2",
   "metadata": {},
   "outputs": [
    {
     "data": {
      "text/plain": [
       "DeltaGenerator()"
      ]
     },
     "execution_count": 32,
     "metadata": {},
     "output_type": "execute_result"
    }
   ],
   "source": [
    "x=list(df.loc[:,0])\n",
    "y=list(df.loc[:,1])\n",
    "x = np.char.array(x)\n",
    "percent=[]\n",
    "explode = (0.1,0, 0,0,0,0,0,0,0,0,0,0,0,0,0,0,0,0,0,0,0) \n",
    "for i in y:\n",
    "    per = 100 *(i/sum(y))\n",
    "    percent.append(per) \n",
    "fig3, ax3 = plt.subplots(figsize=(8,6))\n",
    "patches, texts = plt.pie(y,startangle=90,explode=explode,shadow=True, radius=1.2)\n",
    "labels = ['{0} - {1:1.2f} %'.format(i,j) for i,j in zip(x, percent)]\n",
    "\n",
    "sort_legend = True\n",
    "if sort_legend:\n",
    "    patches, labels, dummy =  zip(*sorted(zip(patches, labels, y),\n",
    "                                          key=lambda x: x[2],\n",
    "                                          reverse=True))\n",
    "fig3.suptitle(\"Number of different genres for IMDB's top 250 movies\", ha='center',fontweight='bold',fontsize=16)\n",
    "plt.legend(patches, labels, bbox_to_anchor=(-0.1, 1.),fontsize=8)\n",
    "st.pyplot(fig3) "
   ]
  },
  {
   "cell_type": "code",
   "execution_count": 33,
   "id": "275656d6",
   "metadata": {},
   "outputs": [
    {
     "data": {
      "text/plain": [
       "DeltaGenerator()"
      ]
     },
     "execution_count": 33,
     "metadata": {},
     "output_type": "execute_result"
    }
   ],
   "source": [
    "#Two line Spaces between charts\n",
    "\n",
    "st.text(\" \")\n",
    "st.text(\" \")"
   ]
  },
  {
   "cell_type": "markdown",
   "id": "a73c11cb",
   "metadata": {},
   "source": [
    "write a query to select Number of parental_guide for IMDB's top 250 movies"
   ]
  },
  {
   "cell_type": "code",
   "execution_count": 35,
   "id": "3808f90f",
   "metadata": {},
   "outputs": [],
   "source": [
    "cursor.execute('select movie.parental_guide, count(id) AS cm from movie Group by parental_guide Order by cm DESC;')\n",
    "records = []\n",
    "for item in cursor.fetchall() :\n",
    "    records.append(item)\n",
    "df=pd.DataFrame(records)"
   ]
  },
  {
   "cell_type": "code",
   "execution_count": 36,
   "id": "d86df370",
   "metadata": {},
   "outputs": [
    {
     "data": {
      "text/plain": [
       "DeltaGenerator()"
      ]
     },
     "execution_count": 36,
     "metadata": {},
     "output_type": "execute_result"
    }
   ],
   "source": [
    "x=list(df.loc[:,0])\n",
    "y=list(df.loc[:,1]) \n",
    "x = np.char.array(x)\n",
    "percent=[]\n",
    "explode=(0.2,0,0,0,0,0,0,0,0,0,0)\n",
    "for i in y:\n",
    "    per = 100 *(i/sum(y))\n",
    "    percent.append(per)\n",
    "fig4, ax4 = plt.subplots(figsize=(8,6))\n",
    "patches, texts = plt.pie(y,startangle=90,explode=explode,shadow=True, radius=1.2)\n",
    "labels = ['{0} - {1:1.2f} %'.format(i,j) for i,j in zip(x, percent)]\n",
    "\n",
    "sort_legend = True\n",
    "if sort_legend:\n",
    "    patches, labels, dummy =  zip(*sorted(zip(patches, labels, y),\n",
    "                                          key=lambda x: x[2],\n",
    "                                          reverse=True))\n",
    "fig4.suptitle('Percentage of movies in each genre', ha='center',fontweight='bold',fontsize=16)\n",
    "plt.legend(patches, labels, bbox_to_anchor=(-0.1, 1.),fontsize=8)\n",
    "fig4.suptitle(\"Number of parental_guide for IMDB's top 250 movies\", ha='center',fontweight='bold',fontsize=16)\n",
    "st.pyplot(fig4) "
   ]
  },
  {
   "cell_type": "code",
   "execution_count": 37,
   "id": "0432a999",
   "metadata": {},
   "outputs": [
    {
     "data": {
      "text/plain": [
       "DeltaGenerator()"
      ]
     },
     "execution_count": 37,
     "metadata": {},
     "output_type": "execute_result"
    }
   ],
   "source": [
    "#Set two lines spaces between charts\n",
    "st.text(\" \")\n",
    "st.text(\" \") "
   ]
  },
  {
   "cell_type": "code",
   "execution_count": 38,
   "id": "e3ac8493",
   "metadata": {},
   "outputs": [
    {
     "data": {
      "text/plain": [
       "DeltaGenerator()"
      ]
     },
     "execution_count": 38,
     "metadata": {},
     "output_type": "execute_result"
    }
   ],
   "source": [
    "cursor.execute('select *, count(genre) AS cp from movie JOIN genre ON genre.movie_id=movie.id Group by parental_guide ORDER by cp DESC;')\n",
    "records = []\n",
    "for item in cursor.fetchall() :\n",
    "    records.append(item) \n",
    "df=pd.DataFrame(records)\n",
    "\n",
    "df.columns=['id','title','year','runtime','parental_guide','gross','id','movie_id','genre','count']\n",
    "df_agg= df.groupby(['genre', 'parental_guide'])['count'].sum().unstack().fillna(0)\n",
    "st.subheader('parental guide categories for each genre')\n",
    "st.bar_chart(data=df_agg) "
   ]
  },
  {
   "cell_type": "markdown",
   "id": "14422b47",
   "metadata": {},
   "source": [
    "# Section 3: Interactive curves"
   ]
  },
  {
   "cell_type": "code",
   "execution_count": 39,
   "id": "48cd52e0",
   "metadata": {},
   "outputs": [
    {
     "data": {
      "text/plain": [
       "DeltaGenerator()"
      ]
     },
     "execution_count": 39,
     "metadata": {},
     "output_type": "execute_result"
    }
   ],
   "source": [
    "st.subheader('Interactive curves') \n",
    "st.text(\" \")\n",
    "st.text(\" \") \n",
    "st.text(\" \")\n",
    "st.text(\" \") "
   ]
  },
  {
   "cell_type": "markdown",
   "id": "27898479",
   "metadata": {},
   "source": [
    "# Get movie's Genre from user and plot a chart"
   ]
  },
  {
   "cell_type": "code",
   "execution_count": 42,
   "id": "a6145575",
   "metadata": {},
   "outputs": [],
   "source": [
    "searchcheckbox_genre = st.checkbox(\"Genre\",value = False, key=5) \n",
    "if searchcheckbox_genre:\n",
    "    genre = st.text_input(\"enter your genre!!!!\") \n",
    "else:\n",
    "    genre  =''\n",
    "    \n",
    "st.text(\"don't forget first letter should be capital\") \n",
    "\n",
    "if st.button(\"enter\"):\n",
    "\n",
    "    if searchcheckbox_genre:\n",
    "        \n",
    "        if genre!= '':\n",
    "            query=(\"select movie.title, gross_us_canada from movie JOIN genre ON genre.movie_id=movie.id WHERE genre.genre=(%s) Order by gross_us_canada DESC LIMIT 10;\")\n",
    "            cursor.execute(query,(genre,))\n",
    "            records = []\n",
    "            for item in cursor.fetchall() :\n",
    "                 records.append(item)\n",
    "            df=pd.DataFrame(data=records)\n",
    "            df.columns=['title','gross_us_canada']\n",
    "            x=df['title']\n",
    "            y=df['gross_us_canada']  \n",
    "            colors=['#b20710','#221f1f']\n",
    "            fig6, ax6 = plt.subplots(figsize=(15,10))\n",
    "            bars=ax6.bar(x, y, color =colors,width=0.8)\n",
    "            ax6.spines[['top', 'right']].set_visible(False)\n",
    "            ax6.tick_params(tick1On=False,length=0,labelsize=11)\n",
    "            plt.xlabel('Movies', fontsize=20,fontweight='bold')\n",
    "            plt.ylabel('Gross Canada US', fontsize=20,fontweight='bold')   \n",
    "            fig6.suptitle('Top Highest-Grossing Movies of Selected genre',ha='center',fontweight='bold',fontsize=20)\n",
    "            plt.xticks(rotation =90)\n",
    "            st.pyplot(fig6) \n",
    "\n",
    "        else:\n",
    "             st.warning(\"You Should enter a genre\") "
   ]
  },
  {
   "cell_type": "markdown",
   "id": "8426ab35",
   "metadata": {},
   "source": [
    "# Set Sidebar Configuration"
   ]
  },
  {
   "cell_type": "code",
   "execution_count": 43,
   "id": "6565795f",
   "metadata": {},
   "outputs": [],
   "source": [
    "st.markdown('---')\n",
    "# Sidebar Configuration\n",
    "st.sidebar.image('https://cdn.freebiesupply.com/logos/thumbs/1x/nvidia-logo.png', width=100)\n",
    "st.sidebar.markdown('# IMDb Top 250 Movies')\n",
    "st.sidebar.markdown('Dynamic Dataframes')\n",
    "st.sidebar.markdown('Static charts')\n",
    "st.sidebar.markdown('Interactive curves') \n",
    "\n",
    "st.sidebar.markdown('---')\n",
    "st.sidebar.write('Developed by Fateme Mousavi')\n",
    "st.sidebar.write('Contact at: fatememoosavi199775@gmail.com')  "
   ]
  },
  {
   "cell_type": "code",
   "execution_count": null,
   "id": "6a1eaae1",
   "metadata": {},
   "outputs": [],
   "source": []
  }
 ],
 "metadata": {
  "kernelspec": {
   "display_name": "Python 3 (ipykernel)",
   "language": "python",
   "name": "python3"
  },
  "language_info": {
   "codemirror_mode": {
    "name": "ipython",
    "version": 3
   },
   "file_extension": ".py",
   "mimetype": "text/x-python",
   "name": "python",
   "nbconvert_exporter": "python",
   "pygments_lexer": "ipython3",
   "version": "3.10.9"
  }
 },
 "nbformat": 4,
 "nbformat_minor": 5
}
